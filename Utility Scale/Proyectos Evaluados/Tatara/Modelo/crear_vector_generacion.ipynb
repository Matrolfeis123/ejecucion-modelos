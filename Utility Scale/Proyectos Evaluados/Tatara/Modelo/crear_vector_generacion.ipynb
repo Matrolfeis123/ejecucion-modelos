{
 "cells": [
  {
   "cell_type": "code",
   "execution_count": null,
   "metadata": {},
   "outputs": [],
   "source": [
    "import pandas as pd"
   ]
  },
  {
   "cell_type": "code",
   "execution_count": null,
   "metadata": {},
   "outputs": [],
   "source": [
    "# Leer 'generacion.csv' una vez\n",
    "generacion_df = pd.read_csv('Modelo/Generaciones/generacion_tatara_pv_puro_33MWp.csv', sep=';')\n",
    "generacion_list = generacion_df['G solar'].tolist()\n",
    "for i in range(len(generacion_list)):\n",
    "    generacion_list[i] = generacion_list[i].replace(',', '.')\n",
    "    generacion_list[i] = max(-0.01833, float(generacion_list[i]))\n",
    "\n",
    "\n",
    "CoD = 2028\n",
    "vida_util = 25\n",
    "\n",
    "# Aplicar degradaciones y eficiencia de inversor\n",
    "degradacion_anual_pv = 0.0045\n",
    "eficiencia_inversor = 0.97\n",
    "\n",
    "generacion_list_degradada = []\n",
    "for año in range(CoD, CoD + vida_util):\n",
    "    ## Tomaremos los datos de generacion de la lista generacion_list y degradamos la generacion año a año\n",
    "    generacion_list_degradada.append(generacion_list* (1 - degradacion_anual_pv) ** (año - CoD) * eficiencia_inversor)\n",
    "\n",
    "# Crear un DataFrame con la generación de energía de la planta y escribir a un archivo CSV\n",
    "generacion_degradada_df = pd.DataFrame(generacion_list_degradada, columns=['G solar'])\n",
    "generacion_degradada_df.to_csv('Modelo/Generaciones/generacion_tatara_pv_degradada_33MWp_prueba.csv', sep=';', index=False)\n"
   ]
  }
 ],
 "metadata": {
  "kernelspec": {
   "display_name": "Python 3",
   "language": "python",
   "name": "python3"
  },
  "language_info": {
   "name": "python",
   "version": "3.11.9"
  }
 },
 "nbformat": 4,
 "nbformat_minor": 2
}
